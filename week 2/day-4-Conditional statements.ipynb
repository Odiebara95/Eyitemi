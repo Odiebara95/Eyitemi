{
 "cells": [
  {
   "cell_type": "markdown",
   "metadata": {},
   "source": [
    "## conditionals"
   ]
  },
  {
   "cell_type": "code",
   "execution_count": 1,
   "metadata": {},
   "outputs": [],
   "source": [
    "## the If statements\n",
    "# General syntax is \n",
    "# if this:\n",
    "#     do this.abs"
   ]
  },
  {
   "cell_type": "code",
   "execution_count": 6,
   "metadata": {},
   "outputs": [],
   "source": [
    "a=58\n",
    "b=50\n",
    "if a<b:\n",
    "    print(\"a is less than b\")"
   ]
  },
  {
   "cell_type": "code",
   "execution_count": 7,
   "metadata": {},
   "outputs": [
    {
     "name": "stdout",
     "output_type": "stream",
     "text": [
      "b is less than a\n"
     ]
    }
   ],
   "source": [
    "a=58\n",
    "b=50\n",
    "if a<b:\n",
    "    print(\"a is less than b\")\n",
    "else:\n",
    "    print(\"b is less than a\")"
   ]
  },
  {
   "cell_type": "code",
   "execution_count": 9,
   "metadata": {},
   "outputs": [
    {
     "name": "stdout",
     "output_type": "stream",
     "text": [
      "b is less than a\n"
     ]
    }
   ],
   "source": [
    "b=58\n",
    "a=58\n",
    "if a<b:\n",
    "    print(\"a is less than b\")\n",
    "else:\n",
    "    print(\"b is less than a\")\n",
    "    ## why we need to introduce the elif code in our if condition"
   ]
  },
  {
   "cell_type": "code",
   "execution_count": 11,
   "metadata": {},
   "outputs": [
    {
     "name": "stdout",
     "output_type": "stream",
     "text": [
      "a is equal to b or a and b are equal\n"
     ]
    }
   ],
   "source": [
    "b=58\n",
    "a=58\n",
    "if a<b:\n",
    "    print(\"a is less than b\")\n",
    "elif b<a:\n",
    "    print(\"b is less than a\")\n",
    "else:\n",
    "    print(\"a is equal to b or a and b are equal\")"
   ]
  },
  {
   "cell_type": "code",
   "execution_count": 12,
   "metadata": {},
   "outputs": [
    {
     "name": "stdout",
     "output_type": "stream",
     "text": [
      "b is less than a\n"
     ]
    }
   ],
   "source": [
    "b=8\n",
    "a=58\n",
    "if a<b:\n",
    "    print(\"a is less than b\")\n",
    "elif b<a:\n",
    "    print(\"b is less than a\")\n",
    "else:\n",
    "    print(\"a is equal to b or a and b are equal\")"
   ]
  },
  {
   "cell_type": "code",
   "execution_count": 15,
   "metadata": {},
   "outputs": [
    {
     "name": "stdout",
     "output_type": "stream",
     "text": [
      "Enter the value of a: 21\n",
      "Enter the value of b: 21\n",
      "a is equal to b or a and b are equal\n"
     ]
    }
   ],
   "source": [
    "# implementing this using the input function\n",
    "a=int(input(\"Enter the value of a: \"))\n",
    "b=int(input(\"Enter the value of b: \"))\n",
    "if a<b:\n",
    "    print(\"a is less than b\")\n",
    "elif b<a:\n",
    "    print(\"b is less than a\")\n",
    "else:\n",
    "    print(\"a is equal to b or a and b are equal\")"
   ]
  },
  {
   "cell_type": "code",
   "execution_count": 18,
   "metadata": {},
   "outputs": [
    {
     "name": "stdout",
     "output_type": "stream",
     "text": [
      "Enter the first name: Paul\n",
      "Enter the second name: Odiebara\n",
      "Your full name is: Paul, Odiebara\n"
     ]
    }
   ],
   "source": [
    "first_name=input(\"Enter the first name: \")\n",
    "second_name=input(\"Enter the second name: \")\n",
    "if first_name==second_name:\n",
    "    print(\"Your name cannot be the same\")\n",
    "else:\n",
    "    print(f\"Your full name is: {first_name}, {second_name}\")"
   ]
  },
  {
   "cell_type": "code",
   "execution_count": 19,
   "metadata": {},
   "outputs": [
    {
     "name": "stdout",
     "output_type": "stream",
     "text": [
      "Enter the first name: Paul\n",
      "Enter the second name: Odiebar\n",
      "Your full name is: Odiebar,Paul\n"
     ]
    }
   ],
   "source": [
    "first_name=input(\"Enter the first name: \")\n",
    "second_name=input(\"Enter the second name: \")\n",
    "if first_name==second_name:\n",
    "    print(\"Your name cannot be the same\")\n",
    "else:\n",
    "    print(f\"Your full name is: {second_name},{first_name}\")"
   ]
  },
  {
   "cell_type": "code",
   "execution_count": 29,
   "metadata": {},
   "outputs": [
    {
     "name": "stdout",
     "output_type": "stream",
     "text": [
      "Enter student's score: 0\n",
      "Student failed and needs to repeat this course\n"
     ]
    }
   ],
   "source": [
    "score=int(input(\"Enter student's score: \"))\n",
    "if score>=70:\n",
    "    print(\"student's grade is A\")\n",
    "elif score>=60:\n",
    "    print(\"Student's grade is B\")\n",
    "elif score>=50:\n",
    "    print(\"Student's grade is C\")\n",
    "elif score>=45:\n",
    "    print(\"Student's grade is D\")\n",
    "elif score>=40:\n",
    "    print(\"Student's grade is E\")\n",
    "elif score<0:\n",
    "    print(\"Pls enter a valid score\")\n",
    "else:\n",
    "    print(\"Student failed and needs to repeat this course\")"
   ]
  },
  {
   "cell_type": "code",
   "execution_count": 34,
   "metadata": {},
   "outputs": [
    {
     "name": "stdout",
     "output_type": "stream",
     "text": [
      "Enter student's score: 65\n",
      "Student's grade is B\n"
     ]
    }
   ],
   "source": [
    "# if your conditions are not in ascending order then you have to put the full condition of your grades\n",
    "score=int(input(\"Enter student's score: \"))\n",
    "if score>=70:\n",
    "    print(\"student's grade is A\")\n",
    "elif score>=50 and score <60:\n",
    "    print(\"Student's grade is C\")\n",
    "elif score>=45 and score < 50:\n",
    "    print(\"Student's grade is D\")\n",
    "elif score>=60 and score < 70:\n",
    "    print(\"Student's grade is B\")\n",
    "elif score>=40:\n",
    "    print(\"Student's grade is E\")\n",
    "elif score<0:\n",
    "    print(\"Pls enter a valid score\")\n",
    "else:\n",
    "    print(\"Student failed and needs to repeat this course\")"
   ]
  },
  {
   "cell_type": "code",
   "execution_count": null,
   "metadata": {},
   "outputs": [],
   "source": []
  }
 ],
 "metadata": {
  "kernelspec": {
   "display_name": "Python 3",
   "language": "python",
   "name": "python3"
  },
  "language_info": {
   "codemirror_mode": {
    "name": "ipython",
    "version": 3
   },
   "file_extension": ".py",
   "mimetype": "text/x-python",
   "name": "python",
   "nbconvert_exporter": "python",
   "pygments_lexer": "ipython3",
   "version": "3.7.3"
  }
 },
 "nbformat": 4,
 "nbformat_minor": 2
}
