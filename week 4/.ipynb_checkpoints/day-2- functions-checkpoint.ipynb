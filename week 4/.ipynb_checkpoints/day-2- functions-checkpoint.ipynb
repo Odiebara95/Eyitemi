{
 "cells": [
  {
   "cell_type": "markdown",
   "metadata": {},
   "source": [
    "## Functions"
   ]
  },
  {
   "cell_type": "code",
   "execution_count": 1,
   "metadata": {},
   "outputs": [],
   "source": [
    "## a function that can multiply two things"
   ]
  },
  {
   "cell_type": "code",
   "execution_count": 2,
   "metadata": {},
   "outputs": [
    {
     "name": "stdout",
     "output_type": "stream",
     "text": [
      "115\n"
     ]
    }
   ],
   "source": [
    "a=23\n",
    "b=5\n",
    "c=a*b\n",
    "print(c)"
   ]
  },
  {
   "cell_type": "code",
   "execution_count": 3,
   "metadata": {},
   "outputs": [],
   "source": [
    "def multiply(a,b):\n",
    "    c=a*b\n",
    "    print(c)"
   ]
  },
  {
   "cell_type": "code",
   "execution_count": 4,
   "metadata": {},
   "outputs": [
    {
     "name": "stdout",
     "output_type": "stream",
     "text": [
      "120\n"
     ]
    }
   ],
   "source": [
    "multiply(20,6)"
   ]
  },
  {
   "cell_type": "code",
   "execution_count": 5,
   "metadata": {},
   "outputs": [],
   "source": [
    "def subtraction(x,y):\n",
    "    print(x-y)"
   ]
  },
  {
   "cell_type": "code",
   "execution_count": 6,
   "metadata": {},
   "outputs": [
    {
     "name": "stdout",
     "output_type": "stream",
     "text": [
      "40\n"
     ]
    }
   ],
   "source": [
    "subtraction(50,10)"
   ]
  },
  {
   "cell_type": "code",
   "execution_count": 7,
   "metadata": {},
   "outputs": [
    {
     "data": {
      "text/plain": [
       "15"
      ]
     },
     "execution_count": 7,
     "metadata": {},
     "output_type": "execute_result"
    }
   ],
   "source": [
    "numbers=[2,4,3,6]\n",
    "sum(numbers)"
   ]
  },
  {
   "cell_type": "markdown",
   "metadata": {},
   "source": [
    "## Exercise 82:Taxi Fare\n",
    "## In a particular jurisdiction, taxi fares consist of a base fare of $4.00, plus $0.25 for every 140 meters traveled. Write a function that takes the distance traveled (in kilometers) as its only parameter and returns the total fare as its only result. Write a main program that demonstrates the function.\n",
    "## Hint: Taxi fares change over time. Use constants to represent the base fare and the variable portion of the fare so that the program can be updated easily when the rates increase."
   ]
  },
  {
   "cell_type": "code",
   "execution_count": 21,
   "metadata": {},
   "outputs": [
    {
     "name": "stdout",
     "output_type": "stream",
     "text": [
      "please enter the distance covered: 140\n",
      "our total fare after traveling for 140.0km is: $253.75\n"
     ]
    }
   ],
   "source": [
    "# if you read in your distance in kilometers\n",
    "distance=float(input(\"please enter the distance covered: \"))\n",
    "base_fare=4\n",
    "plus_fare= (distance//0.14)*0.25\n",
    "total_fare= base_fare+plus_fare\n",
    "print(f\"our total fare after traveling for {distance}km is: ${total_fare}\")"
   ]
  },
  {
   "cell_type": "code",
   "execution_count": 22,
   "metadata": {},
   "outputs": [
    {
     "name": "stdout",
     "output_type": "stream",
     "text": [
      "please enter the distance covered in meters: 140\n",
      "our total fare after traveling for 140.0m is: $4.25\n"
     ]
    }
   ],
   "source": [
    "# if you read in your distance in meters\n",
    "distance=float(input(\"please enter the distance covered in meters: \"))\n",
    "base_fare=4\n",
    "plus_fare= (distance//140)*0.25\n",
    "total_fare= base_fare+plus_fare\n",
    "print(f\"our total fare after traveling for {distance}m is: ${total_fare}\")"
   ]
  },
  {
   "cell_type": "code",
   "execution_count": 28,
   "metadata": {},
   "outputs": [],
   "source": [
    "def t_fare(distance):\n",
    "    \"\"\"This function outputs total fare when a distance is covered\"\"\"\n",
    "    base_fare=4\n",
    "    plus_fare= (distance//0.14)*0.25\n",
    "    total_fare= base_fare+plus_fare\n",
    "    print(f\"our total fare after traveling for {distance}km is: ${total_fare}\")"
   ]
  },
  {
   "cell_type": "code",
   "execution_count": 29,
   "metadata": {},
   "outputs": [
    {
     "name": "stdout",
     "output_type": "stream",
     "text": [
      "our total fare after traveling for 140km is: $253.75\n"
     ]
    }
   ],
   "source": [
    "t_fare(140)"
   ]
  },
  {
   "cell_type": "code",
   "execution_count": 30,
   "metadata": {},
   "outputs": [
    {
     "name": "stdout",
     "output_type": "stream",
     "text": [
      "our total fare after traveling for 280km is: $503.75\n"
     ]
    }
   ],
   "source": [
    "t_fare(280)"
   ]
  },
  {
   "cell_type": "code",
   "execution_count": 40,
   "metadata": {},
   "outputs": [],
   "source": [
    "## defining a program with return\n",
    "def new_t_fare(distance):\n",
    "    \"\"\"This function outputs total fare when a distance is covered\"\"\"\n",
    "    base_fare=4\n",
    "    plus_fare= (distance//0.14)*0.25\n",
    "    total_fare= base_fare+plus_fare\n",
    "    return total_fare"
   ]
  },
  {
   "cell_type": "code",
   "execution_count": 41,
   "metadata": {},
   "outputs": [
    {
     "data": {
      "text/plain": [
       "254.75"
      ]
     },
     "execution_count": 41,
     "metadata": {},
     "output_type": "execute_result"
    }
   ],
   "source": [
    "x=new_t_fare(140)\n",
    "x+1"
   ]
  },
  {
   "cell_type": "code",
   "execution_count": 42,
   "metadata": {},
   "outputs": [
    {
     "name": "stdout",
     "output_type": "stream",
     "text": [
      "please enter the distance covered in meters: 140\n",
      "hotel fee after covering a distance of 140.0km is $507.5\n"
     ]
    }
   ],
   "source": [
    "distance=float(input(\"please enter the distance covered in meters: \"))\n",
    "price= new_t_fare(distance)\n",
    "hotel_fee=price*2\n",
    "print(f\"hotel fee after covering a distance of {distance}km is ${hotel_fee}\")"
   ]
  },
  {
   "cell_type": "code",
   "execution_count": 43,
   "metadata": {},
   "outputs": [
    {
     "data": {
      "text/plain": [
       "507.5"
      ]
     },
     "execution_count": 43,
     "metadata": {},
     "output_type": "execute_result"
    }
   ],
   "source": [
    "253.75*2"
   ]
  },
  {
   "cell_type": "code",
   "execution_count": null,
   "metadata": {},
   "outputs": [],
   "source": []
  }
 ],
 "metadata": {
  "kernelspec": {
   "display_name": "Python 3",
   "language": "python",
   "name": "python3"
  },
  "language_info": {
   "codemirror_mode": {
    "name": "ipython",
    "version": 3
   },
   "file_extension": ".py",
   "mimetype": "text/x-python",
   "name": "python",
   "nbconvert_exporter": "python",
   "pygments_lexer": "ipython3",
   "version": "3.7.3"
  }
 },
 "nbformat": 4,
 "nbformat_minor": 2
}
