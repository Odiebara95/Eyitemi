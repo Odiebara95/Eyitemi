{
 "cells": [
  {
   "cell_type": "code",
   "execution_count": 8,
   "metadata": {},
   "outputs": [],
   "source": [
    "## defining a program with return\n",
    "def new_t_fare(distance):\n",
    "    \"\"\"This function outputs total fare when a distance is covered\"\"\"\n",
    "    base_fare=4\n",
    "    plus_fare= (distance//0.14)*0.25\n",
    "    total_fare= base_fare+plus_fare\n",
    "    return total_fare"
   ]
  },
  {
   "cell_type": "code",
   "execution_count": 9,
   "metadata": {},
   "outputs": [
    {
     "data": {
      "text/plain": [
       "39.5"
      ]
     },
     "execution_count": 9,
     "metadata": {},
     "output_type": "execute_result"
    }
   ],
   "source": [
    "new_t_fare(20)"
   ]
  },
  {
   "cell_type": "code",
   "execution_count": 10,
   "metadata": {},
   "outputs": [
    {
     "name": "stdout",
     "output_type": "stream",
     "text": [
      "please enter the distance covered in kilometers: 20\n",
      "hotel fee after covering a distance of 20.0km is $79.0\n"
     ]
    }
   ],
   "source": [
    "distance=float(input(\"please enter the distance covered in kilometers: \"))\n",
    "price= new_t_fare(distance)\n",
    "hotel_fee=price*2\n",
    "print(f\"hotel fee after covering a distance of {distance}km is ${hotel_fee}\")"
   ]
  },
  {
   "cell_type": "code",
   "execution_count": 11,
   "metadata": {},
   "outputs": [
    {
     "name": "stdout",
     "output_type": "stream",
     "text": [
      "please enter any word of your choiceeyitemi\n",
      "e is a vowel\n",
      "y is a consonant\n",
      "i is a vowel\n",
      "t is a consonant\n",
      "e is a vowel\n",
      "m is a consonant\n",
      "i is a vowel\n"
     ]
    }
   ],
   "source": [
    "word=input(\"please enter any word of your choice\")\n",
    "for i in word:\n",
    "    if i==\"a\" or i==\"e\" or i==\"i\" or i==\"o\" or i==\"u\":\n",
    "        print(f\"{i} is a vowel\")\n",
    "    else:\n",
    "        print(f\"{i} is a consonant\")"
   ]
  },
  {
   "cell_type": "code",
   "execution_count": 16,
   "metadata": {},
   "outputs": [],
   "source": [
    "def words(word):\n",
    "    for i in word:\n",
    "        if i==\"a\" or i==\"e\" or i==\"i\" or i==\"o\" or i==\"u\":\n",
    "            print(f\"{i} is a vowel\")\n",
    "        elif i==\" \":\n",
    "            print(f\"{i} is a space\")\n",
    "        else:\n",
    "            print(f\"{i} is a consonant\")"
   ]
  },
  {
   "cell_type": "code",
   "execution_count": 17,
   "metadata": {},
   "outputs": [
    {
     "name": "stdout",
     "output_type": "stream",
     "text": [
      "c is a consonant\n",
      "o is a vowel\n",
      "m is a consonant\n",
      "e is a vowel\n",
      "  is a space\n",
      "h is a consonant\n",
      "e is a vowel\n",
      "r is a consonant\n",
      "e is a vowel\n"
     ]
    }
   ],
   "source": [
    "words(\"come here\")"
   ]
  },
  {
   "cell_type": "markdown",
   "metadata": {},
   "source": [
    "#### Exercise 84: Median of Three Values\n",
    "#### Write a function that takes three numbers as parameters, and returns the median value of those parameters as its result. Include a main program that reads three values from the user and displays their median.\n",
    "#### Hint: The median value is the middle of the three values when they are sorted into ascending order. It can be found using if statements, or with a little bit of mathematical creativity."
   ]
  },
  {
   "cell_type": "code",
   "execution_count": 22,
   "metadata": {
    "scrolled": true
   },
   "outputs": [
    {
     "name": "stdout",
     "output_type": "stream",
     "text": [
      "Enter 1st number: 3\n",
      "Enter 2nd number: -2\n",
      "Enter 3rd number: 5\n",
      "Enter 4th number: 7\n",
      "Enter 5th number: 2\n",
      "[3.0, -2.0, 5.0, 7.0, 2.0]\n",
      "the maximum of this numbers is 7.0\n",
      "the minimum of this numbers is -2.0\n",
      "The median is 3.0\n"
     ]
    }
   ],
   "source": [
    "n1=float(input(\"Enter 1st number: \"))\n",
    "n2=float(input(\"Enter 2nd number: \"))\n",
    "n3=float(input(\"Enter 3rd number: \"))\n",
    "n4=float(input(\"Enter 4th number: \"))\n",
    "n5=float(input(\"Enter 5th number: \"))\n",
    "numbers=[]\n",
    "numbers.append(n1)\n",
    "numbers.append(n2)\n",
    "numbers.append(n3)\n",
    "numbers.append(n4)\n",
    "numbers.append(n5)\n",
    "print(numbers)\n",
    "print(f\"the maximum of this numbers is {max(numbers)}\")\n",
    "print(f\"the minimum of this numbers is {min(numbers)}\")\n",
    "numbers.sort()\n",
    "print(f\"The median is {numbers[2]}\")"
   ]
  },
  {
   "cell_type": "markdown",
   "metadata": {},
   "source": [
    "### write a program that will read in any number of your choice. your input should terminate only when your input is zero.\n",
    "### the program should do all the things in the previous example too."
   ]
  },
  {
   "cell_type": "code",
   "execution_count": null,
   "metadata": {},
   "outputs": [],
   "source": []
  }
 ],
 "metadata": {
  "kernelspec": {
   "display_name": "Python 3",
   "language": "python",
   "name": "python3"
  },
  "language_info": {
   "codemirror_mode": {
    "name": "ipython",
    "version": 3
   },
   "file_extension": ".py",
   "mimetype": "text/x-python",
   "name": "python",
   "nbconvert_exporter": "python",
   "pygments_lexer": "ipython3",
   "version": "3.7.3"
  }
 },
 "nbformat": 4,
 "nbformat_minor": 2
}
